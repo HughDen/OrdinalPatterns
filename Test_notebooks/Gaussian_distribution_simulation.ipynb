{
 "cells": [
  {
   "cell_type": "markdown",
   "metadata": {},
   "source": [
    "Test for random walk with steps from a Gaussian distribution\n",
    "================================\n",
    "\n",
    "This notebook simulates a random walk with $3$ steps drawn from a mean zero normal distribution. Python's random package has methods for simulating a normal distribution. Since ordinal patterns are scale invariant, the standard deviation parameter won't affect the outcome.\n",
    "\n",
    "We simulate a random walk 100,000 times and record the ordinal pattern for each iteration. The frequency of each ordinal pattern can then compared to calculations based on Theorem 4.1 of Bandt and Shiha's *Order patterns in time series* paper. For comparison, we look at both KL-divergence and the total variation distance. The primary purpose of the notebook is a sanity check - if we've made errors in our papers, the error should show up in an empirical test. "
   ]
  },
  {
   "cell_type": "code",
   "execution_count": 1,
   "metadata": {
    "collapsed": false
   },
   "outputs": [],
   "source": [
    "%run ../src/gaussian_calculations.py\n",
    "%run ../src/comparison.py\n",
    "%run ../src/simulation.py\n",
    "%run ../src/string_formatters.py"
   ]
  },
  {
   "cell_type": "markdown",
   "metadata": {},
   "source": [
    "First we store what we believe is the true distribution for ordinal patterns in $S_4$ with steps drawn from a mean zero normal distribution. The calculation below uses Bandt and Shiha's generalization of this to arbitrary fractional Brownian motion given in *Order patterns in time series*."
   ]
  },
  {
   "cell_type": "code",
   "execution_count": 2,
   "metadata": {
    "collapsed": true
   },
   "outputs": [],
   "source": [
    "Gaussian_distribution = gaussian4(0.5)"
   ]
  },
  {
   "cell_type": "markdown",
   "metadata": {},
   "source": [
    "Other sources have given this calculation before. For example, DeFord and Moore's *Random walk null models for time series* and [this](https://mathoverflow.net/questions/97875/random-permutations-from-brownian-motion) question on Mathoverflow. Let's see what it looks like for the sake of comparison:"
   ]
  },
  {
   "cell_type": "code",
   "execution_count": 3,
   "metadata": {
    "collapsed": false
   },
   "outputs": [
    {
     "name": "stdout",
     "output_type": "stream",
     "text": [
      "(1, 2, 3, 4) -> 0.1250     (3, 1, 4, 2) -> 0.0146     (4, 2, 3, 1) -> 0.0417 \n",
      "(2, 1, 4, 3) -> 0.0270     (1, 2, 4, 3) -> 0.0625     (1, 4, 2, 3) -> 0.0208 \n",
      "(3, 1, 2, 4) -> 0.0355     (1, 4, 3, 2) -> 0.0270     (1, 3, 2, 4) -> 0.0417 \n",
      "(1, 3, 4, 2) -> 0.0355     (2, 1, 3, 4) -> 0.0625     (2, 3, 1, 4) -> 0.0208 \n",
      "(2, 3, 4, 1) -> 0.0270     (2, 4, 1, 3) -> 0.0146     (2, 4, 3, 1) -> 0.0355 \n",
      "(3, 2, 1, 4) -> 0.0270     (3, 2, 4, 1) -> 0.0208     (3, 4, 1, 2) -> 0.0270 \n",
      "(3, 4, 2, 1) -> 0.0625     (4, 1, 2, 3) -> 0.0270     (4, 1, 3, 2) -> 0.0208 \n",
      "(4, 2, 1, 3) -> 0.0355     (4, 3, 1, 2) -> 0.0625     (4, 3, 2, 1) -> 0.1250 \n",
      "\n"
     ]
    }
   ],
   "source": [
    "print(float_dictionary_string(Gaussian_distribution))"
   ]
  },
  {
   "cell_type": "markdown",
   "metadata": {},
   "source": [
    "Now we run a random walk simulation using steps drawn from a mean zero normal distribution."
   ]
  },
  {
   "cell_type": "code",
   "execution_count": 4,
   "metadata": {
    "collapsed": false
   },
   "outputs": [],
   "source": [
    "Gaussian_sim =  ordinal_gaussian_walk(4,100000) #This takes about 6 seconds on my older machine"
   ]
  },
  {
   "cell_type": "markdown",
   "metadata": {},
   "source": [
    "Next we verify that the distance between the simulated distribution and the true distribution is small in both the total variation distance and a version of the KL-divergence recommended in [DeFord and Moore](https://arxiv.org/abs/1710.02175)."
   ]
  },
  {
   "cell_type": "code",
   "execution_count": 5,
   "metadata": {
    "collapsed": false
   },
   "outputs": [
    {
     "name": "stdout",
     "output_type": "stream",
     "text": [
      "0.005333247356288836\n",
      "7.8839675631e-05\n"
     ]
    }
   ],
   "source": [
    "print(total_variation_distance(Gaussian_distribution, Gaussian_sim))\n",
    "print(kullback_leibler(Gaussian_distribution, Gaussian_sim))"
   ]
  },
  {
   "cell_type": "markdown",
   "metadata": {},
   "source": [
    "Both values are small, as expected, though by itself, hard to interpret. For contrast, we'll compare to pure noise and then to a simulation of a random walk with Laplace and uniform steps."
   ]
  },
  {
   "cell_type": "code",
   "execution_count": 6,
   "metadata": {
    "collapsed": false
   },
   "outputs": [],
   "source": [
    "from itertools import permutations\n",
    "Noise_distribution = {p : 1/24 for p in permutations(range(1,5))} # Ordinal patterns are equidistributed in white noise."
   ]
  },
  {
   "cell_type": "code",
   "execution_count": 7,
   "metadata": {
    "collapsed": false
   },
   "outputs": [
    {
     "name": "stdout",
     "output_type": "stream",
     "text": [
      "0.2500000000000002\n",
      "0.194605313847\n"
     ]
    }
   ],
   "source": [
    "print(total_variation_distance(Gaussian_distribution, Noise_distribution)) \n",
    "print(kullback_leibler(Gaussian_distribution, Noise_distribution))"
   ]
  },
  {
   "cell_type": "code",
   "execution_count": 8,
   "metadata": {
    "collapsed": true
   },
   "outputs": [],
   "source": [
    "Laplace_sim = ordinal_laplace_walk(4,100000)"
   ]
  },
  {
   "cell_type": "code",
   "execution_count": 9,
   "metadata": {
    "collapsed": false
   },
   "outputs": [
    {
     "name": "stdout",
     "output_type": "stream",
     "text": [
      "0.02680649471257764\n",
      "0.00420319320901\n"
     ]
    }
   ],
   "source": [
    "print(total_variation_distance(Gaussian_distribution,Laplace_sim))\n",
    "print(kullback_leibler(Gaussian_distribution,Laplace_sim))"
   ]
  },
  {
   "cell_type": "code",
   "execution_count": 10,
   "metadata": {
    "collapsed": true
   },
   "outputs": [],
   "source": [
    "Uniform_sim = ordinal_uniform_walk(4,100000)"
   ]
  },
  {
   "cell_type": "code",
   "execution_count": 11,
   "metadata": {
    "collapsed": false
   },
   "outputs": [
    {
     "name": "stdout",
     "output_type": "stream",
     "text": [
      "0.04010683862075574\n",
      "0.00933966417722\n"
     ]
    }
   ],
   "source": [
    "print(total_variation_distance(Gaussian_distribution, Uniform_sim))\n",
    "print(kullback_leibler(Gaussian_distribution, Uniform_sim))"
   ]
  },
  {
   "cell_type": "markdown",
   "metadata": {
    "collapsed": true
   },
   "source": [
    "Unsurprisingly, the distance to noise is greater than to the closely related random walks. Nonetheless, by these metrics, a simulation of a random walk with normal steps is much closer to the true distribution than a simulation from other distributions."
   ]
  },
  {
   "cell_type": "code",
   "execution_count": null,
   "metadata": {
    "collapsed": true
   },
   "outputs": [],
   "source": []
  }
 ],
 "metadata": {
  "kernelspec": {
   "display_name": "Python 3",
   "language": "python",
   "name": "python3"
  },
  "language_info": {
   "codemirror_mode": {
    "name": "ipython",
    "version": 3
   },
   "file_extension": ".py",
   "mimetype": "text/x-python",
   "name": "python",
   "nbconvert_exporter": "python",
   "pygments_lexer": "ipython3",
   "version": "3.6.0"
  }
 },
 "nbformat": 4,
 "nbformat_minor": 2
}
