{
 "cells": [
  {
   "cell_type": "markdown",
   "metadata": {},
   "source": [
    "Test for random walk with steps from a Laplace distribution\n",
    "================================\n",
    "\n",
    "This notebook simulates a random walk with steps drawn from a mean zero Laplace distribution. Python's random package has methods for simulating an exponential distribution. A mean zero Laplace random variable can be obtained by subtracting two identical exponential random variables. Since ordinal patterns are scale invariant, the scale parameter won't affect the outcome.\n",
    "\n",
    "We simulate a random walk 100,000 times and record the ordinal pattern for each iteration. The frequency of each ordinal pattern is then compared to a calculation based on Theorem 3.4 of [this](http://arxiv.org/abs/1907.07172) paper. For comparison, we look at both KL-divergence and the total variation distance. The primary purpose of the notebook is a sanity check - if we've made errors in our papers, the error should show up in an empirical test. "
   ]
  },
  {
   "cell_type": "code",
   "execution_count": 1,
   "metadata": {
    "collapsed": false
   },
   "outputs": [],
   "source": [
    "%run ../calculations.py\n",
    "%run ../comparison.py\n",
    "%run ../simulation.py"
   ]
  },
  {
   "cell_type": "markdown",
   "metadata": {},
   "source": [
    "First we store what we believe is the true distribution for ordinal patterns in $S_5$ with steps drawn from the Laplace distribution. In general, the proposed probability for a fixed permutation $\\pi$ is \n",
    "\n",
    "$$\\frac{1}{2^n \\prod_{j=1}^n \\mathrm{lev}(\\pi)_j},$$\n",
    "\n",
    "where $\\mathrm{lev}(\\pi)_j$ is the number of positions $i$ such that $\\pi(i) \\leq j < \\pi(i+1)$ or $\\pi(i+1) \\leq j < \\pi(i)$."
   ]
  },
  {
   "cell_type": "code",
   "execution_count": 2,
   "metadata": {
    "collapsed": true
   },
   "outputs": [],
   "source": [
    "Laplace_distribution = ordinal_distribution_laplace(5)"
   ]
  },
  {
   "cell_type": "markdown",
   "metadata": {},
   "source": [
    "Now we run a random walk simulation using steps drawn from a Laplace distribution."
   ]
  },
  {
   "cell_type": "code",
   "execution_count": 3,
   "metadata": {
    "collapsed": false
   },
   "outputs": [],
   "source": [
    "Laplace_sim = ordinal_laplace_walk(5,100000) #This takes about 6 seconds on my older machine"
   ]
  },
  {
   "cell_type": "markdown",
   "metadata": {},
   "source": [
    "Next we verify that the distance between the simulated distribution and the true distribution is small in both the total variation distance and a version of the KL-divergence recommended in [DeFord and Moore](https://arxiv.org/abs/1710.02175)."
   ]
  },
  {
   "cell_type": "code",
   "execution_count": 4,
   "metadata": {
    "collapsed": false
   },
   "outputs": [
    {
     "name": "stdout",
     "output_type": "stream",
     "text": [
      "0.011715972222222221\n",
      "0.000506068827443\n"
     ]
    }
   ],
   "source": [
    "print(total_variation_distance(Laplace_distribution, Laplace_sim))\n",
    "print(kullback_leibler(Laplace_distribution, Laplace_sim))"
   ]
  },
  {
   "cell_type": "markdown",
   "metadata": {},
   "source": [
    "Both values are small, as expected, though by itself, hard to interpret. For contrast, we'll compare to pure noise and then to a simulation of a random walk with normal and uniform steps."
   ]
  },
  {
   "cell_type": "code",
   "execution_count": 5,
   "metadata": {
    "collapsed": true
   },
   "outputs": [],
   "source": [
    "from itertools import permutations\n",
    "Noise_distribution = {p : 1/120 for p in permutations(range(1,6))} # Ordinal patterns are equidistributed in white noise."
   ]
  },
  {
   "cell_type": "code",
   "execution_count": 6,
   "metadata": {
    "collapsed": false
   },
   "outputs": [
    {
     "name": "stdout",
     "output_type": "stream",
     "text": [
      "0.3395833333333333\n",
      "0.416886040604\n"
     ]
    }
   ],
   "source": [
    "print(total_variation_distance(Laplace_distribution, Noise_distribution)) \n",
    "print(kullback_leibler(Laplace_distribution, Noise_distribution))"
   ]
  },
  {
   "cell_type": "code",
   "execution_count": 7,
   "metadata": {
    "collapsed": true
   },
   "outputs": [],
   "source": [
    "Gaussian_sim = ordinal_gaussian_walk(5,100000)"
   ]
  },
  {
   "cell_type": "code",
   "execution_count": 8,
   "metadata": {
    "collapsed": false
   },
   "outputs": [
    {
     "name": "stdout",
     "output_type": "stream",
     "text": [
      "0.05175999999999999\n",
      "0.0133458176005\n"
     ]
    }
   ],
   "source": [
    "print(total_variation_distance(Laplace_distribution,Gaussian_sim))\n",
    "print(kullback_leibler(Laplace_distribution, Gaussian_sim))"
   ]
  },
  {
   "cell_type": "code",
   "execution_count": 9,
   "metadata": {
    "collapsed": true
   },
   "outputs": [],
   "source": [
    "Uniform_sim = ordinal_uniform_walk(5,100000)"
   ]
  },
  {
   "cell_type": "code",
   "execution_count": 10,
   "metadata": {
    "collapsed": false
   },
   "outputs": [
    {
     "name": "stdout",
     "output_type": "stream",
     "text": [
      "0.11719916666666667\n",
      "0.0748091645202\n"
     ]
    }
   ],
   "source": [
    "print(total_variation_distance(Laplace_distribution, Uniform_sim))\n",
    "print(kullback_leibler(Laplace_distribution, Uniform_sim))"
   ]
  },
  {
   "cell_type": "markdown",
   "metadata": {
    "collapsed": true
   },
   "source": [
    "Unsurprisingly, the distance to noise is greater than to the closely related random walks. Nonetheless, by these metrics, a simulation of a random walk with steps from a Laplace distribution is much closer to the true distribution than a simulation from other distributions."
   ]
  },
  {
   "cell_type": "code",
   "execution_count": null,
   "metadata": {
    "collapsed": true
   },
   "outputs": [],
   "source": []
  }
 ],
 "metadata": {
  "kernelspec": {
   "display_name": "Python 3",
   "language": "python",
   "name": "python3"
  },
  "language_info": {
   "codemirror_mode": {
    "name": "ipython",
    "version": 3
   },
   "file_extension": ".py",
   "mimetype": "text/x-python",
   "name": "python",
   "nbconvert_exporter": "python",
   "pygments_lexer": "ipython3",
   "version": "3.6.0"
  }
 },
 "nbformat": 4,
 "nbformat_minor": 2
}
