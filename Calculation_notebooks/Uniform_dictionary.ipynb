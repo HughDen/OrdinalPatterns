{
 "cells": [
  {
   "cell_type": "markdown",
   "metadata": {},
   "source": [
    "Generating a dictionary of ordinal pattern probabilities for the uniform distribution on $[-1,1]$\n",
    "====================================================\n",
    "\n",
    "The brute force method alluded to before Proposition 5.21 of [this paper](https://arxiv.org/abs/1907.07172) iterates over all addresses for alcoves such that the basis coordinates of points in the alcoves have values in $[0,1]$ and are required to be zero for certain simple roots. This page contains an even more brute force approach that iterates over addresses that have values of $0$ or $-1$ on simple roots and computes which permutation has an inversion set corresponding to the negative values of the address. "
   ]
  },
  {
   "cell_type": "code",
   "execution_count": 1,
   "metadata": {
    "collapsed": true
   },
   "outputs": [],
   "source": [
    "%run ../src/calculations.py\n",
    "%run ../src/string_formatters.py"
   ]
  },
  {
   "cell_type": "code",
   "execution_count": 2,
   "metadata": {
    "collapsed": false
   },
   "outputs": [
    {
     "name": "stdout",
     "output_type": "stream",
     "text": [
      "(1, 2, 3, 4) -> 0.1250     (1, 2, 4, 3) -> 0.0625     (1, 3, 2, 4) -> 0.0417 \n",
      "(1, 3, 4, 2) -> 0.0417     (1, 4, 2, 3) -> 0.0208     (1, 4, 3, 2) -> 0.0208 \n",
      "(2, 1, 3, 4) -> 0.0625     (2, 1, 4, 3) -> 0.0208     (2, 3, 1, 4) -> 0.0208 \n",
      "(2, 3, 4, 1) -> 0.0208     (2, 4, 1, 3) -> 0.0208     (2, 4, 3, 1) -> 0.0417 \n",
      "(3, 1, 2, 4) -> 0.0417     (3, 1, 4, 2) -> 0.0208     (3, 2, 1, 4) -> 0.0208 \n",
      "(3, 2, 4, 1) -> 0.0208     (3, 4, 1, 2) -> 0.0208     (3, 4, 2, 1) -> 0.0625 \n",
      "(4, 1, 2, 3) -> 0.0208     (4, 1, 3, 2) -> 0.0208     (4, 2, 1, 3) -> 0.0417 \n",
      "(4, 2, 3, 1) -> 0.0417     (4, 3, 1, 2) -> 0.0625     (4, 3, 2, 1) -> 0.1250 \n",
      "\n"
     ]
    }
   ],
   "source": [
    "print(float_dictionary_string(ordinal_distribution_uniform(4)))"
   ]
  },
  {
   "cell_type": "markdown",
   "metadata": {},
   "source": [
    "More details on what the algorithm is doing\n",
    "-------------------------------------------------\n",
    "\n",
    "There are $(n-1)!$ alcoves in $[0,1]^n$. One approach to generating these is to take an address of an alcove in $[0,1]^{n-1}$, append the minimum possible entries to form an address of an alcove in $[0,1]^n$, and then search for the next valid increment that satisfies the constraints of Shi's Theorem. There may be a nice way to do this, but transitioning from $[0,1]^{n-1}$ alcoves to $[0,1]^n$ alcoves appears to require a cubic in $n$ search if it is done naively. (One must produce $n-1$ increments per alcove from $[0,1]^{n-1}$, then each Shi constraint involves checking up to $n-1$ constraints, and the search for a valid increment involves up to $n-1$ Shi constraint searches.)\n",
    "\n",
    "Instead of this straightforward approach, we use a construction due to Stanley in [Eulerian partitions of a hypercube](http://math.mit.edu/~rstan/pubs/pubfiles/34a.pdf). Associated to each permutation is an alcove whose address is given by a minor modification to the construction. Thus, we iterate over all $(n-1)!$ permutations and produce the assocated alcoves in $[0,1]^n$. This process appears to be quadratic in $n$ per alcove and is the fastest method I've found thus far."
   ]
  },
  {
   "cell_type": "code",
   "execution_count": null,
   "metadata": {
    "collapsed": true
   },
   "outputs": [],
   "source": []
  }
 ],
 "metadata": {
  "kernelspec": {
   "display_name": "Python 3",
   "language": "python",
   "name": "python3"
  },
  "language_info": {
   "codemirror_mode": {
    "name": "ipython",
    "version": 3
   },
   "file_extension": ".py",
   "mimetype": "text/x-python",
   "name": "python",
   "nbconvert_exporter": "python",
   "pygments_lexer": "ipython3",
   "version": "3.6.0"
  }
 },
 "nbformat": 4,
 "nbformat_minor": 2
}
