{
 "cells": [
  {
   "cell_type": "markdown",
   "metadata": {},
   "source": [
    "Generating all alcoves contained in the polytope $P_\\pi$\n",
    "==============================\n",
    "\n",
    "In (this)[https://arxiv.org/abs/1907.07172] paper, we claimed that it was possible to generate addresses for all alcoves contained in a rational polytope corresponding to an ordinal pattern. The ordinal pattern determines which roots (identified with pairs of positive integers) must be zero in the address. All other roots are free up to the constraints of Shi's Theorem: \n",
    "\n",
    "$$k(i,t) + k(t,j) \\leq k(i,j) \\leq k(i,t) + k(t,j) + 1$$\n",
    "\n",
    "In this notebook, we demonstrate code that does exactly this."
   ]
  },
  {
   "cell_type": "code",
   "execution_count": 1,
   "metadata": {
    "collapsed": false
   },
   "outputs": [],
   "source": [
    "%run ../alcoves.py"
   ]
  },
  {
   "cell_type": "markdown",
   "metadata": {},
   "source": [
    "All pairs within a range of consecutive values of a permutation must be set to $0$ in a valid address contained in $P_\\pi$. We wrote a method to do this. As a basic example, we look at the permutation whose $1$-line notation is $4231$"
   ]
  },
  {
   "cell_type": "code",
   "execution_count": 2,
   "metadata": {
    "collapsed": false
   },
   "outputs": [
    {
     "data": {
      "text/plain": [
       "((1, 2), (1, 3), (2, 3), (3, 4), (2, 4))"
      ]
     },
     "execution_count": 2,
     "metadata": {},
     "output_type": "execute_result"
    }
   ],
   "source": [
    "root_ideal((4,2,3,1))"
   ]
  },
  {
   "cell_type": "markdown",
   "metadata": {},
   "source": [
    "Our algorithm uses breadth-first search (BFS). That is, it adds values to roots layer by layer. Implicitly, there is a tree of incomplete dictionaries that is being traversed. Any dictionary consistent with Shi's Theorem is added to the next layer of the tree. "
   ]
  },
  {
   "cell_type": "code",
   "execution_count": 3,
   "metadata": {
    "collapsed": false
   },
   "outputs": [
    {
     "data": {
      "text/plain": [
       "({(1, 2): 0, (1, 3): 0, (1, 4): 0, (2, 3): 0, (2, 4): 0, (3, 4): 0},\n",
       " {(1, 2): 0, (1, 3): 0, (1, 4): 1, (2, 3): 0, (2, 4): 0, (3, 4): 0})"
      ]
     },
     "execution_count": 3,
     "metadata": {},
     "output_type": "execute_result"
    }
   ],
   "source": [
    "BFS_weak_order_addresses((4,2,3,1))"
   ]
  },
  {
   "cell_type": "markdown",
   "metadata": {},
   "source": [
    "Ordinal patterns with smaller jumps have more addresses contained in $P_\\pi$. Each dictionary corresponds to an address."
   ]
  },
  {
   "cell_type": "code",
   "execution_count": 4,
   "metadata": {
    "collapsed": false
   },
   "outputs": [
    {
     "data": {
      "text/plain": [
       "({(1, 2): 0, (1, 3): 0, (1, 4): 0, (2, 3): 0, (2, 4): 0, (3, 4): 0},\n",
       " {(1, 2): 0, (1, 3): 0, (1, 4): 1, (2, 3): 0, (2, 4): 0, (3, 4): 0},\n",
       " {(1, 2): 0, (1, 3): 0, (1, 4): 1, (2, 3): 0, (2, 4): 1, (3, 4): 0},\n",
       " {(1, 2): 0, (1, 3): 1, (1, 4): 1, (2, 3): 0, (2, 4): 0, (3, 4): 0},\n",
       " {(1, 2): 0, (1, 3): 1, (1, 4): 1, (2, 3): 0, (2, 4): 1, (3, 4): 0},\n",
       " {(1, 2): 0, (1, 3): 1, (1, 4): 2, (2, 3): 0, (2, 4): 1, (3, 4): 0})"
      ]
     },
     "execution_count": 4,
     "metadata": {},
     "output_type": "execute_result"
    }
   ],
   "source": [
    "BFS_weak_order_addresses((4,3,2,1))"
   ]
  },
  {
   "cell_type": "code",
   "execution_count": null,
   "metadata": {
    "collapsed": true
   },
   "outputs": [],
   "source": []
  }
 ],
 "metadata": {
  "kernelspec": {
   "display_name": "Python 3",
   "language": "python",
   "name": "python3"
  },
  "language_info": {
   "codemirror_mode": {
    "name": "ipython",
    "version": 3
   },
   "file_extension": ".py",
   "mimetype": "text/x-python",
   "name": "python",
   "nbconvert_exporter": "python",
   "pygments_lexer": "ipython3",
   "version": "3.6.0"
  }
 },
 "nbformat": 4,
 "nbformat_minor": 2
}
