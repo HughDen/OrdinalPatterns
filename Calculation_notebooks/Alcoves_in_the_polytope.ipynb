{
 "cells": [
  {
   "cell_type": "markdown",
   "metadata": {},
   "source": [
    "Generating all alcoves contained in the polytope $P_\\pi$\n",
    "==============================\n",
    "\n",
    "In [this](https://arxiv.org/abs/1907.07172) paper, we claimed that it was possible to generate addresses for all alcoves contained in a rational polytope corresponding $P_\\pi$ to an ordinal pattern $\\pi$. The ordinal pattern determines which roots (identified with pairs of positive integers) must be zero in the address. All other roots are free up to the constraints of Shi's Theorem: \n",
    "\n",
    "$$k(i,t) + k(t,j) \\leq k(i,j) \\leq k(i,t) + k(t,j) + 1$$\n",
    "\n",
    "In this notebook, we demonstrate code that does exactly this."
   ]
  },
  {
   "cell_type": "code",
   "execution_count": 1,
   "metadata": {
    "collapsed": false
   },
   "outputs": [],
   "source": [
    "%run ../src/alcoves.py"
   ]
  },
  {
   "cell_type": "markdown",
   "metadata": {},
   "source": [
    "All pairs within a range of consecutive values of a permutation must be set to $0$ in a valid address for an alcove contained in $P_\\pi$. The pairs that must be set to zero form an ideal in the root poset. We wrote a method to find this ideal. As a basic example, we look at the permutation whose $1$-line notation is $4231$."
   ]
  },
  {
   "cell_type": "code",
   "execution_count": 2,
   "metadata": {
    "collapsed": false
   },
   "outputs": [
    {
     "data": {
      "text/plain": [
       "((1, 2), (1, 3), (2, 3), (3, 4), (2, 4))"
      ]
     },
     "execution_count": 2,
     "metadata": {},
     "output_type": "execute_result"
    }
   ],
   "source": [
    "root_ideal((4,2,3,1))"
   ]
  },
  {
   "cell_type": "markdown",
   "metadata": {},
   "source": [
    "Our algorithm to find all valid addresses for alcoves contained in $P_\\pi$ uses breadth-first search (BFS). That is, it adds values to roots layer by layer. Implicitly, there is a tree of incomplete dictionaries that is being traversed. Any dictionary consistent with Shi's Theorem is added to the next layer of the tree. In the example below, the pairs in the root ideal for $4231$ are required to be zero. The only pair in $\\{1,2,3,4\\}$ not in the root ideal is $(1,4)$, which implies it is the only pair not required to map to zero. "
   ]
  },
  {
   "cell_type": "code",
   "execution_count": 3,
   "metadata": {
    "collapsed": false
   },
   "outputs": [
    {
     "data": {
      "text/plain": [
       "({(1, 2): 0, (1, 3): 0, (1, 4): 0, (2, 3): 0, (2, 4): 0, (3, 4): 0},\n",
       " {(1, 2): 0, (1, 3): 0, (1, 4): 1, (2, 3): 0, (2, 4): 0, (3, 4): 0})"
      ]
     },
     "execution_count": 3,
     "metadata": {},
     "output_type": "execute_result"
    }
   ],
   "source": [
    "BFS_weak_order_addresses((4,2,3,1))"
   ]
  },
  {
   "cell_type": "markdown",
   "metadata": {},
   "source": [
    "Ordinal patterns with smaller jumps have more addresses contained in $P_\\pi$. Each dictionary corresponds to an address."
   ]
  },
  {
   "cell_type": "code",
   "execution_count": 4,
   "metadata": {
    "collapsed": false
   },
   "outputs": [
    {
     "data": {
      "text/plain": [
       "({(1, 2): 0, (1, 3): 0, (1, 4): 0, (2, 3): 0, (2, 4): 0, (3, 4): 0},\n",
       " {(1, 2): 0, (1, 3): 0, (1, 4): 1, (2, 3): 0, (2, 4): 0, (3, 4): 0},\n",
       " {(1, 2): 0, (1, 3): 0, (1, 4): 1, (2, 3): 0, (2, 4): 1, (3, 4): 0},\n",
       " {(1, 2): 0, (1, 3): 1, (1, 4): 1, (2, 3): 0, (2, 4): 0, (3, 4): 0},\n",
       " {(1, 2): 0, (1, 3): 1, (1, 4): 1, (2, 3): 0, (2, 4): 1, (3, 4): 0},\n",
       " {(1, 2): 0, (1, 3): 1, (1, 4): 2, (2, 3): 0, (2, 4): 1, (3, 4): 0})"
      ]
     },
     "execution_count": 4,
     "metadata": {},
     "output_type": "execute_result"
    }
   ],
   "source": [
    "BFS_weak_order_addresses((4,3,2,1))"
   ]
  },
  {
   "cell_type": "markdown",
   "metadata": {
    "collapsed": true
   },
   "source": [
    "The probability that $\\pi \\in S_n$ is generated as an ordinal pattern in a random walk with $n$ steps drawn uniformly from $[-1,1]$ is the number of alcoves in $P_\\pi$ divided by $2^{n-1} (n-1)!$. Thus, iterating over all permutations and computing this number produces a distribution on $S_n$. The example below is for $n = 4$. For $n = 6$, the distribution on $S_6$ is generated in about $3$ seconds on my old machine. For $n = 7$, it is under a minute. Use higher values at your own risk. (Or, help me improve the algorithm or the implementation!)"
   ]
  },
  {
   "cell_type": "code",
   "execution_count": 5,
   "metadata": {
    "collapsed": false
   },
   "outputs": [
    {
     "data": {
      "text/plain": [
       "{(1, 2, 3, 4): 6,\n",
       " (1, 2, 4, 3): 3,\n",
       " (1, 3, 2, 4): 2,\n",
       " (1, 3, 4, 2): 2,\n",
       " (1, 4, 2, 3): 1,\n",
       " (1, 4, 3, 2): 1,\n",
       " (2, 1, 3, 4): 3,\n",
       " (2, 1, 4, 3): 1,\n",
       " (2, 3, 1, 4): 1,\n",
       " (2, 3, 4, 1): 1,\n",
       " (2, 4, 1, 3): 1,\n",
       " (2, 4, 3, 1): 2,\n",
       " (3, 1, 2, 4): 2,\n",
       " (3, 1, 4, 2): 1,\n",
       " (3, 2, 1, 4): 1,\n",
       " (3, 2, 4, 1): 1,\n",
       " (3, 4, 1, 2): 1,\n",
       " (3, 4, 2, 1): 3,\n",
       " (4, 1, 2, 3): 1,\n",
       " (4, 1, 3, 2): 1,\n",
       " (4, 2, 1, 3): 2,\n",
       " (4, 2, 3, 1): 2,\n",
       " (4, 3, 1, 2): 3,\n",
       " (4, 3, 2, 1): 6}"
      ]
     },
     "execution_count": 5,
     "metadata": {},
     "output_type": "execute_result"
    }
   ],
   "source": [
    "from itertools import permutations\n",
    "def count_alcoves(n):\n",
    "    return {p:len(BFS_weak_order_addresses(p)) for p in permutations(range(1,n+1))}\n",
    "count_alcoves(4)"
   ]
  },
  {
   "cell_type": "code",
   "execution_count": null,
   "metadata": {
    "collapsed": true
   },
   "outputs": [],
   "source": []
  }
 ],
 "metadata": {
  "kernelspec": {
   "display_name": "Python 3",
   "language": "python",
   "name": "python3"
  },
  "language_info": {
   "codemirror_mode": {
    "name": "ipython",
    "version": 3
   },
   "file_extension": ".py",
   "mimetype": "text/x-python",
   "name": "python",
   "nbconvert_exporter": "python",
   "pygments_lexer": "ipython3",
   "version": "3.6.0"
  }
 },
 "nbformat": 4,
 "nbformat_minor": 2
}
